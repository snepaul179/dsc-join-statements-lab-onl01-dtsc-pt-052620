{
 "cells": [
  {
   "cell_type": "markdown",
   "metadata": {},
   "source": [
    "# Join Statements - Lab\n",
    "\n",
    "## Introduction\n",
    "\n",
    "In this lab, you'll practice your knowledge of `JOIN` statements, using various types of joins and various methods for specifying the links between them.\n",
    "\n",
    "## Objectives\n",
    "\n",
    "You will be able to:\n",
    "* Write SQL queries that make use of various types of joins\n",
    "* Compare and contrast the various types of joins\n",
    "* Discuss how primary and foreign keys are used in SQL\n",
    "* Decide and perform whichever type of join is best for retrieving desired data"
   ]
  },
  {
   "cell_type": "markdown",
   "metadata": {},
   "source": [
    "## CRM Schema\n",
    "\n",
    "In almost all cases, rather than just working with a single table you will typically need data from multiple tables. \n",
    "Doing this requires the use of **joins** using shared columns from the two tables. \n",
    "\n",
    "In this lab, you'll use the same customer relationship management (CRM) database that you saw from the previous lesson.\n",
    "<img src='images/Database-Schema.png' width=\"600\">"
   ]
  },
  {
   "cell_type": "markdown",
   "metadata": {},
   "source": [
    "## Connecting to the Database\n",
    "Import the necessary packages and connect to the database `'data.sqlite'`."
   ]
  },
  {
   "cell_type": "code",
   "execution_count": 1,
   "metadata": {
    "ExecuteTime": {
     "end_time": "2020-06-25T23:38:59.027105Z",
     "start_time": "2020-06-25T23:38:58.602660Z"
    }
   },
   "outputs": [],
   "source": [
    "# Your code here\n",
    "import sqlite3\n",
    "import pandas as pd\n",
    "\n",
    "conn = sqlite3.connect('data.sqlite')\n",
    "cur = conn.cursor()\n"
   ]
  },
  {
   "cell_type": "markdown",
   "metadata": {},
   "source": [
    "## Display the names of all the employees in Boston \n",
    "\n",
    "Hint: join the employees and offices tables."
   ]
  },
  {
   "cell_type": "code",
   "execution_count": 8,
   "metadata": {
    "ExecuteTime": {
     "end_time": "2020-06-25T23:47:15.539982Z",
     "start_time": "2020-06-25T23:47:15.521793Z"
    }
   },
   "outputs": [
    {
     "data": {
      "text/html": [
       "<div>\n",
       "<style scoped>\n",
       "    .dataframe tbody tr th:only-of-type {\n",
       "        vertical-align: middle;\n",
       "    }\n",
       "\n",
       "    .dataframe tbody tr th {\n",
       "        vertical-align: top;\n",
       "    }\n",
       "\n",
       "    .dataframe thead th {\n",
       "        text-align: right;\n",
       "    }\n",
       "</style>\n",
       "<table border=\"1\" class=\"dataframe\">\n",
       "  <thead>\n",
       "    <tr style=\"text-align: right;\">\n",
       "      <th></th>\n",
       "      <th>employeeNumber</th>\n",
       "      <th>lastName</th>\n",
       "      <th>firstName</th>\n",
       "      <th>officeCode</th>\n",
       "      <th>city</th>\n",
       "    </tr>\n",
       "  </thead>\n",
       "  <tbody>\n",
       "    <tr>\n",
       "      <td>0</td>\n",
       "      <td>1188</td>\n",
       "      <td>Firrelli</td>\n",
       "      <td>Julie</td>\n",
       "      <td>2</td>\n",
       "      <td>Boston</td>\n",
       "    </tr>\n",
       "    <tr>\n",
       "      <td>1</td>\n",
       "      <td>1216</td>\n",
       "      <td>Patterson</td>\n",
       "      <td>Steve</td>\n",
       "      <td>2</td>\n",
       "      <td>Boston</td>\n",
       "    </tr>\n",
       "  </tbody>\n",
       "</table>\n",
       "</div>"
      ],
      "text/plain": [
       "   employeeNumber   lastName firstName  officeCode    city\n",
       "0            1188   Firrelli     Julie           2  Boston\n",
       "1            1216  Patterson     Steve           2  Boston"
      ]
     },
     "execution_count": 8,
     "metadata": {},
     "output_type": "execute_result"
    }
   ],
   "source": [
    "# Your code here\n",
    "df = pd.DataFrame(cur.execute('''SELECT employeeNumber, lastName, firstName, officeCode, city\n",
    "                        FROM employees\n",
    "                        JOIN offices\n",
    "                        USING (officeCode)\n",
    "                        WHERE city = \"Boston\"''').fetchall())\n",
    "df.columns = [x[0] for x in cur.description]\n",
    "df"
   ]
  },
  {
   "cell_type": "markdown",
   "metadata": {},
   "source": [
    "## Are there any offices that have zero employees?\n",
    "Hint: Combine the employees and offices tables and use a group by."
   ]
  },
  {
   "cell_type": "code",
   "execution_count": 26,
   "metadata": {
    "ExecuteTime": {
     "end_time": "2020-06-26T00:06:43.054780Z",
     "start_time": "2020-06-26T00:06:43.021284Z"
    }
   },
   "outputs": [
    {
     "name": "stdout",
     "output_type": "stream",
     "text": [
      "   officeCode    city\n",
      "0          27  Boston\n"
     ]
    },
    {
     "data": {
      "text/html": [
       "<div>\n",
       "<style scoped>\n",
       "    .dataframe tbody tr th:only-of-type {\n",
       "        vertical-align: middle;\n",
       "    }\n",
       "\n",
       "    .dataframe tbody tr th {\n",
       "        vertical-align: top;\n",
       "    }\n",
       "\n",
       "    .dataframe thead th {\n",
       "        text-align: right;\n",
       "    }\n",
       "</style>\n",
       "<table border=\"1\" class=\"dataframe\">\n",
       "  <thead>\n",
       "    <tr style=\"text-align: right;\">\n",
       "      <th></th>\n",
       "      <th>num_of_empl</th>\n",
       "      <th>city</th>\n",
       "      <th>firstName</th>\n",
       "      <th>officeCode</th>\n",
       "    </tr>\n",
       "  </thead>\n",
       "  <tbody>\n",
       "    <tr>\n",
       "      <td>0</td>\n",
       "      <td>0</td>\n",
       "      <td>Boston</td>\n",
       "      <td>None</td>\n",
       "      <td>27</td>\n",
       "    </tr>\n",
       "  </tbody>\n",
       "</table>\n",
       "</div>"
      ],
      "text/plain": [
       "   num_of_empl    city firstName  officeCode\n",
       "0            0  Boston      None          27"
      ]
     },
     "execution_count": 26,
     "metadata": {},
     "output_type": "execute_result"
    }
   ],
   "source": [
    "# Your code here\n",
    "# Option 1\n",
    "df = pd.DataFrame(cur.execute('''SELECT officeCode, city \n",
    "                        FROM offices O\n",
    "                        LEFT JOIN employees E\n",
    "                        USING (officeCode)\n",
    "                        WHERE E.officeCode IS null''').fetchall())\n",
    "df.columns = [x[0] for x in cur.description]\n",
    "print(df)\n",
    "\n",
    "# Option 2\n",
    "df = pd.DataFrame(cur.execute('''SELECT count(employeeNumber) as num_of_empl, city, firstName, officeCode\n",
    "                        FROM offices O\n",
    "                        LEFT JOIN employees E\n",
    "                        USING (officeCode)\n",
    "                        GROUP BY E.officeCode\n",
    "                        HAVING num_of_empl = 0\n",
    "                        ''').fetchall())\n",
    "df.columns = [x[0] for x in cur.description]\n",
    "df"
   ]
  },
  {
   "cell_type": "markdown",
   "metadata": {},
   "source": [
    "## Write 3 Questions of your own and answer them"
   ]
  },
  {
   "cell_type": "code",
   "execution_count": 32,
   "metadata": {
    "ExecuteTime": {
     "end_time": "2020-06-26T00:21:37.563691Z",
     "start_time": "2020-06-26T00:21:37.502262Z"
    }
   },
   "outputs": [
    {
     "name": "stdout",
     "output_type": "stream",
     "text": [
      "17976\n"
     ]
    },
    {
     "data": {
      "text/html": [
       "<div>\n",
       "<style scoped>\n",
       "    .dataframe tbody tr th:only-of-type {\n",
       "        vertical-align: middle;\n",
       "    }\n",
       "\n",
       "    .dataframe tbody tr th {\n",
       "        vertical-align: top;\n",
       "    }\n",
       "\n",
       "    .dataframe thead th {\n",
       "        text-align: right;\n",
       "    }\n",
       "</style>\n",
       "<table border=\"1\" class=\"dataframe\">\n",
       "  <thead>\n",
       "    <tr style=\"text-align: right;\">\n",
       "      <th></th>\n",
       "      <th>employeeNumber</th>\n",
       "      <th>firstName</th>\n",
       "      <th>lastName</th>\n",
       "      <th>orderNumber</th>\n",
       "      <th>productName</th>\n",
       "      <th>productDescription</th>\n",
       "    </tr>\n",
       "  </thead>\n",
       "  <tbody>\n",
       "    <tr>\n",
       "      <td>0</td>\n",
       "      <td>1165</td>\n",
       "      <td>Leslie</td>\n",
       "      <td>Jennings</td>\n",
       "      <td>10113</td>\n",
       "      <td>1958 Setra Bus</td>\n",
       "      <td>Model features 30 windows, skylights &amp; glare r...</td>\n",
       "    </tr>\n",
       "    <tr>\n",
       "      <td>1</td>\n",
       "      <td>1165</td>\n",
       "      <td>Leslie</td>\n",
       "      <td>Jennings</td>\n",
       "      <td>10113</td>\n",
       "      <td>1940 Ford Pickup Truck</td>\n",
       "      <td>This model features soft rubber tires, working...</td>\n",
       "    </tr>\n",
       "    <tr>\n",
       "      <td>2</td>\n",
       "      <td>1165</td>\n",
       "      <td>Leslie</td>\n",
       "      <td>Jennings</td>\n",
       "      <td>10113</td>\n",
       "      <td>1939 Cadillac Limousine</td>\n",
       "      <td>Features completely detailed interior includin...</td>\n",
       "    </tr>\n",
       "    <tr>\n",
       "      <td>3</td>\n",
       "      <td>1165</td>\n",
       "      <td>Leslie</td>\n",
       "      <td>Jennings</td>\n",
       "      <td>10113</td>\n",
       "      <td>1996 Peterbilt 379 Stake Bed with Outrigger</td>\n",
       "      <td>This model features, opening doors, detailed e...</td>\n",
       "    </tr>\n",
       "    <tr>\n",
       "      <td>4</td>\n",
       "      <td>1165</td>\n",
       "      <td>Leslie</td>\n",
       "      <td>Jennings</td>\n",
       "      <td>10135</td>\n",
       "      <td>1968 Ford Mustang</td>\n",
       "      <td>Hood, doors and trunk all open to reveal highl...</td>\n",
       "    </tr>\n",
       "    <tr>\n",
       "      <td>...</td>\n",
       "      <td>...</td>\n",
       "      <td>...</td>\n",
       "      <td>...</td>\n",
       "      <td>...</td>\n",
       "      <td>...</td>\n",
       "      <td>...</td>\n",
       "    </tr>\n",
       "    <tr>\n",
       "      <td>2991</td>\n",
       "      <td>1702</td>\n",
       "      <td>Martin</td>\n",
       "      <td>Gerard</td>\n",
       "      <td>10184</td>\n",
       "      <td>1954 Greyhound Scenicruiser</td>\n",
       "      <td>Model features bi-level seating, 50 windows, s...</td>\n",
       "    </tr>\n",
       "    <tr>\n",
       "      <td>2992</td>\n",
       "      <td>1702</td>\n",
       "      <td>Martin</td>\n",
       "      <td>Gerard</td>\n",
       "      <td>10184</td>\n",
       "      <td>1950's Chicago Surface Lines Streetcar</td>\n",
       "      <td>This streetcar is a joy to see. It has 80 sepa...</td>\n",
       "    </tr>\n",
       "    <tr>\n",
       "      <td>2993</td>\n",
       "      <td>1702</td>\n",
       "      <td>Martin</td>\n",
       "      <td>Gerard</td>\n",
       "      <td>10184</td>\n",
       "      <td>Diamond T620 Semi-Skirted Tanker</td>\n",
       "      <td>This limited edition model is licensed and per...</td>\n",
       "    </tr>\n",
       "    <tr>\n",
       "      <td>2994</td>\n",
       "      <td>1702</td>\n",
       "      <td>Martin</td>\n",
       "      <td>Gerard</td>\n",
       "      <td>10303</td>\n",
       "      <td>1911 Ford Town Car</td>\n",
       "      <td>Features opening hood, opening doors, opening ...</td>\n",
       "    </tr>\n",
       "    <tr>\n",
       "      <td>2995</td>\n",
       "      <td>1702</td>\n",
       "      <td>Martin</td>\n",
       "      <td>Gerard</td>\n",
       "      <td>10303</td>\n",
       "      <td>1936 Mercedes Benz 500k Roadster</td>\n",
       "      <td>This model features grille-mounted chrome horn...</td>\n",
       "    </tr>\n",
       "  </tbody>\n",
       "</table>\n",
       "<p>2996 rows × 6 columns</p>\n",
       "</div>"
      ],
      "text/plain": [
       "      employeeNumber firstName  lastName  orderNumber  \\\n",
       "0               1165    Leslie  Jennings        10113   \n",
       "1               1165    Leslie  Jennings        10113   \n",
       "2               1165    Leslie  Jennings        10113   \n",
       "3               1165    Leslie  Jennings        10113   \n",
       "4               1165    Leslie  Jennings        10135   \n",
       "...              ...       ...       ...          ...   \n",
       "2991            1702    Martin    Gerard        10184   \n",
       "2992            1702    Martin    Gerard        10184   \n",
       "2993            1702    Martin    Gerard        10184   \n",
       "2994            1702    Martin    Gerard        10303   \n",
       "2995            1702    Martin    Gerard        10303   \n",
       "\n",
       "                                      productName  \\\n",
       "0                                  1958 Setra Bus   \n",
       "1                          1940 Ford Pickup Truck   \n",
       "2                         1939 Cadillac Limousine   \n",
       "3     1996 Peterbilt 379 Stake Bed with Outrigger   \n",
       "4                               1968 Ford Mustang   \n",
       "...                                           ...   \n",
       "2991                  1954 Greyhound Scenicruiser   \n",
       "2992       1950's Chicago Surface Lines Streetcar   \n",
       "2993             Diamond T620 Semi-Skirted Tanker   \n",
       "2994                           1911 Ford Town Car   \n",
       "2995             1936 Mercedes Benz 500k Roadster   \n",
       "\n",
       "                                     productDescription  \n",
       "0     Model features 30 windows, skylights & glare r...  \n",
       "1     This model features soft rubber tires, working...  \n",
       "2     Features completely detailed interior includin...  \n",
       "3     This model features, opening doors, detailed e...  \n",
       "4     Hood, doors and trunk all open to reveal highl...  \n",
       "...                                                 ...  \n",
       "2991  Model features bi-level seating, 50 windows, s...  \n",
       "2992  This streetcar is a joy to see. It has 80 sepa...  \n",
       "2993  This limited edition model is licensed and per...  \n",
       "2994  Features opening hood, opening doors, opening ...  \n",
       "2995  This model features grille-mounted chrome horn...  \n",
       "\n",
       "[2996 rows x 6 columns]"
      ]
     },
     "execution_count": 32,
     "metadata": {},
     "output_type": "execute_result"
    }
   ],
   "source": [
    "# Answers will vary\n",
    "# Question 1: Display the htmlDescription and employee's first and last name for each product that each employee has sold\n",
    "\n",
    "df = pd.DataFrame(cur.execute('''SELECT employeeNumber, firstName, lastName, orderNumber, productName, productDescription\n",
    "                        FROM employees \n",
    "                        JOIN customers \n",
    "                        ON employeeNumber = salesRepEmployeeNumber\n",
    "                        JOIN orders \n",
    "                        USING (customerNumber)\n",
    "                        JOIN orderdetails\n",
    "                        USING (orderNumber)\n",
    "                        JOIN products\n",
    "                        USING (productCode)\n",
    "                        ''').fetchall())\n",
    "df.columns = [x[0] for x in cur.description]\n",
    "print(df.size)\n",
    "df.head()"
   ]
  },
  {
   "cell_type": "code",
   "execution_count": 42,
   "metadata": {
    "ExecuteTime": {
     "end_time": "2020-06-26T00:42:45.539218Z",
     "start_time": "2020-06-26T00:42:45.509676Z"
    }
   },
   "outputs": [
    {
     "name": "stdout",
     "output_type": "stream",
     "text": [
      "440\n"
     ]
    },
    {
     "data": {
      "text/html": [
       "<div>\n",
       "<style scoped>\n",
       "    .dataframe tbody tr th:only-of-type {\n",
       "        vertical-align: middle;\n",
       "    }\n",
       "\n",
       "    .dataframe tbody tr th {\n",
       "        vertical-align: top;\n",
       "    }\n",
       "\n",
       "    .dataframe thead th {\n",
       "        text-align: right;\n",
       "    }\n",
       "</style>\n",
       "<table border=\"1\" class=\"dataframe\">\n",
       "  <thead>\n",
       "    <tr style=\"text-align: right;\">\n",
       "      <th></th>\n",
       "      <th>productCode</th>\n",
       "      <th>productName</th>\n",
       "      <th>productDescription</th>\n",
       "      <th>nums_sold</th>\n",
       "    </tr>\n",
       "  </thead>\n",
       "  <tbody>\n",
       "    <tr>\n",
       "      <td>0</td>\n",
       "      <td>S18_3233</td>\n",
       "      <td>1985 Toyota Supra</td>\n",
       "      <td>This model features soft rubber tires, working...</td>\n",
       "      <td>NaN</td>\n",
       "    </tr>\n",
       "    <tr>\n",
       "      <td>1</td>\n",
       "      <td>S18_4933</td>\n",
       "      <td>1957 Ford Thunderbird</td>\n",
       "      <td>This 1:18 scale precision die-cast replica, wi...</td>\n",
       "      <td>767.0</td>\n",
       "    </tr>\n",
       "    <tr>\n",
       "      <td>2</td>\n",
       "      <td>S24_1046</td>\n",
       "      <td>1970 Chevy Chevelle SS 454</td>\n",
       "      <td>This model features rotating wheels, working s...</td>\n",
       "      <td>803.0</td>\n",
       "    </tr>\n",
       "    <tr>\n",
       "      <td>3</td>\n",
       "      <td>S24_3969</td>\n",
       "      <td>1936 Mercedes Benz 500k Roadster</td>\n",
       "      <td>This model features grille-mounted chrome horn...</td>\n",
       "      <td>824.0</td>\n",
       "    </tr>\n",
       "    <tr>\n",
       "      <td>4</td>\n",
       "      <td>S18_2248</td>\n",
       "      <td>1911 Ford Town Car</td>\n",
       "      <td>Features opening hood, opening doors, opening ...</td>\n",
       "      <td>832.0</td>\n",
       "    </tr>\n",
       "  </tbody>\n",
       "</table>\n",
       "</div>"
      ],
      "text/plain": [
       "  productCode                       productName  \\\n",
       "0    S18_3233                 1985 Toyota Supra   \n",
       "1    S18_4933             1957 Ford Thunderbird   \n",
       "2    S24_1046        1970 Chevy Chevelle SS 454   \n",
       "3    S24_3969  1936 Mercedes Benz 500k Roadster   \n",
       "4    S18_2248                1911 Ford Town Car   \n",
       "\n",
       "                                  productDescription  nums_sold  \n",
       "0  This model features soft rubber tires, working...        NaN  \n",
       "1  This 1:18 scale precision die-cast replica, wi...      767.0  \n",
       "2  This model features rotating wheels, working s...      803.0  \n",
       "3  This model features grille-mounted chrome horn...      824.0  \n",
       "4  Features opening hood, opening doors, opening ...      832.0  "
      ]
     },
     "execution_count": 42,
     "metadata": {},
     "output_type": "execute_result"
    }
   ],
   "source": [
    "# Your code here\n",
    "# Quetion 2: Display the Number of each Products sold?\n",
    "df = pd.DataFrame(cur.execute('''SELECT productCode, productName, productDescription, SUM(quantityOrdered) as nums_sold                        \n",
    "                        FROM products P \n",
    "                        LEFT JOIN orderdetails OD\n",
    "                        USING (productCode)\n",
    "                        GROUP BY productCode\n",
    "                        ORDER BY nums_sold\n",
    "                        ''').fetchall())\n",
    "df.columns = [x[0] for x in cur.description]\n",
    "print(df.size)\n",
    "df.head()"
   ]
  },
  {
   "cell_type": "code",
   "execution_count": null,
   "metadata": {},
   "outputs": [],
   "source": [
    "# Your code here"
   ]
  },
  {
   "cell_type": "code",
   "execution_count": null,
   "metadata": {},
   "outputs": [],
   "source": [
    "# Your code here"
   ]
  },
  {
   "cell_type": "markdown",
   "metadata": {},
   "source": [
    "## Level Up: Display the names of every individual product that each employee has sold"
   ]
  },
  {
   "cell_type": "code",
   "execution_count": 33,
   "metadata": {
    "ExecuteTime": {
     "end_time": "2020-06-26T00:22:26.545104Z",
     "start_time": "2020-06-26T00:22:26.502113Z"
    }
   },
   "outputs": [
    {
     "name": "stdout",
     "output_type": "stream",
     "text": [
      "17976\n"
     ]
    },
    {
     "data": {
      "text/html": [
       "<div>\n",
       "<style scoped>\n",
       "    .dataframe tbody tr th:only-of-type {\n",
       "        vertical-align: middle;\n",
       "    }\n",
       "\n",
       "    .dataframe tbody tr th {\n",
       "        vertical-align: top;\n",
       "    }\n",
       "\n",
       "    .dataframe thead th {\n",
       "        text-align: right;\n",
       "    }\n",
       "</style>\n",
       "<table border=\"1\" class=\"dataframe\">\n",
       "  <thead>\n",
       "    <tr style=\"text-align: right;\">\n",
       "      <th></th>\n",
       "      <th>employeeNumber</th>\n",
       "      <th>firstName</th>\n",
       "      <th>lastName</th>\n",
       "      <th>orderNumber</th>\n",
       "      <th>productName</th>\n",
       "      <th>productDescription</th>\n",
       "    </tr>\n",
       "  </thead>\n",
       "  <tbody>\n",
       "    <tr>\n",
       "      <td>0</td>\n",
       "      <td>1165</td>\n",
       "      <td>Leslie</td>\n",
       "      <td>Jennings</td>\n",
       "      <td>10113</td>\n",
       "      <td>1958 Setra Bus</td>\n",
       "      <td>Model features 30 windows, skylights &amp; glare r...</td>\n",
       "    </tr>\n",
       "    <tr>\n",
       "      <td>1</td>\n",
       "      <td>1165</td>\n",
       "      <td>Leslie</td>\n",
       "      <td>Jennings</td>\n",
       "      <td>10113</td>\n",
       "      <td>1940 Ford Pickup Truck</td>\n",
       "      <td>This model features soft rubber tires, working...</td>\n",
       "    </tr>\n",
       "    <tr>\n",
       "      <td>2</td>\n",
       "      <td>1165</td>\n",
       "      <td>Leslie</td>\n",
       "      <td>Jennings</td>\n",
       "      <td>10113</td>\n",
       "      <td>1939 Cadillac Limousine</td>\n",
       "      <td>Features completely detailed interior includin...</td>\n",
       "    </tr>\n",
       "    <tr>\n",
       "      <td>3</td>\n",
       "      <td>1165</td>\n",
       "      <td>Leslie</td>\n",
       "      <td>Jennings</td>\n",
       "      <td>10113</td>\n",
       "      <td>1996 Peterbilt 379 Stake Bed with Outrigger</td>\n",
       "      <td>This model features, opening doors, detailed e...</td>\n",
       "    </tr>\n",
       "    <tr>\n",
       "      <td>4</td>\n",
       "      <td>1165</td>\n",
       "      <td>Leslie</td>\n",
       "      <td>Jennings</td>\n",
       "      <td>10135</td>\n",
       "      <td>1968 Ford Mustang</td>\n",
       "      <td>Hood, doors and trunk all open to reveal highl...</td>\n",
       "    </tr>\n",
       "  </tbody>\n",
       "</table>\n",
       "</div>"
      ],
      "text/plain": [
       "   employeeNumber firstName  lastName  orderNumber  \\\n",
       "0            1165    Leslie  Jennings        10113   \n",
       "1            1165    Leslie  Jennings        10113   \n",
       "2            1165    Leslie  Jennings        10113   \n",
       "3            1165    Leslie  Jennings        10113   \n",
       "4            1165    Leslie  Jennings        10135   \n",
       "\n",
       "                                   productName  \\\n",
       "0                               1958 Setra Bus   \n",
       "1                       1940 Ford Pickup Truck   \n",
       "2                      1939 Cadillac Limousine   \n",
       "3  1996 Peterbilt 379 Stake Bed with Outrigger   \n",
       "4                            1968 Ford Mustang   \n",
       "\n",
       "                                  productDescription  \n",
       "0  Model features 30 windows, skylights & glare r...  \n",
       "1  This model features soft rubber tires, working...  \n",
       "2  Features completely detailed interior includin...  \n",
       "3  This model features, opening doors, detailed e...  \n",
       "4  Hood, doors and trunk all open to reveal highl...  "
      ]
     },
     "execution_count": 33,
     "metadata": {},
     "output_type": "execute_result"
    }
   ],
   "source": [
    "# Your code here\n",
    "\n",
    "df = pd.DataFrame(cur.execute('''SELECT employeeNumber, firstName, lastName, orderNumber, productName, productDescription\n",
    "                        FROM employees \n",
    "                        JOIN customers \n",
    "                        ON employeeNumber = salesRepEmployeeNumber\n",
    "                        JOIN orders \n",
    "                        USING (customerNumber)\n",
    "                        JOIN orderdetails\n",
    "                        USING (orderNumber)\n",
    "                        JOIN products\n",
    "                        USING (productCode)\n",
    "                        ''').fetchall())\n",
    "df.columns = [x[0] for x in cur.description]\n",
    "print(df.size)\n",
    "df.head()"
   ]
  },
  {
   "cell_type": "markdown",
   "metadata": {},
   "source": [
    "## Level Up: Display the Number of Products each employee has sold"
   ]
  },
  {
   "cell_type": "code",
   "execution_count": 40,
   "metadata": {
    "ExecuteTime": {
     "end_time": "2020-06-26T00:33:38.651201Z",
     "start_time": "2020-06-26T00:33:38.616576Z"
    }
   },
   "outputs": [
    {
     "name": "stdout",
     "output_type": "stream",
     "text": [
      "60\n"
     ]
    },
    {
     "data": {
      "text/html": [
       "<div>\n",
       "<style scoped>\n",
       "    .dataframe tbody tr th:only-of-type {\n",
       "        vertical-align: middle;\n",
       "    }\n",
       "\n",
       "    .dataframe tbody tr th {\n",
       "        vertical-align: top;\n",
       "    }\n",
       "\n",
       "    .dataframe thead th {\n",
       "        text-align: right;\n",
       "    }\n",
       "</style>\n",
       "<table border=\"1\" class=\"dataframe\">\n",
       "  <thead>\n",
       "    <tr style=\"text-align: right;\">\n",
       "      <th></th>\n",
       "      <th>employeeNumber</th>\n",
       "      <th>firstName</th>\n",
       "      <th>lastName</th>\n",
       "      <th>num_sold</th>\n",
       "    </tr>\n",
       "  </thead>\n",
       "  <tbody>\n",
       "    <tr>\n",
       "      <td>0</td>\n",
       "      <td>1165</td>\n",
       "      <td>Leslie</td>\n",
       "      <td>Jennings</td>\n",
       "      <td>331</td>\n",
       "    </tr>\n",
       "    <tr>\n",
       "      <td>1</td>\n",
       "      <td>1166</td>\n",
       "      <td>Leslie</td>\n",
       "      <td>Thompson</td>\n",
       "      <td>114</td>\n",
       "    </tr>\n",
       "    <tr>\n",
       "      <td>2</td>\n",
       "      <td>1188</td>\n",
       "      <td>Julie</td>\n",
       "      <td>Firrelli</td>\n",
       "      <td>124</td>\n",
       "    </tr>\n",
       "    <tr>\n",
       "      <td>3</td>\n",
       "      <td>1216</td>\n",
       "      <td>Steve</td>\n",
       "      <td>Patterson</td>\n",
       "      <td>152</td>\n",
       "    </tr>\n",
       "    <tr>\n",
       "      <td>4</td>\n",
       "      <td>1286</td>\n",
       "      <td>Foon Yue</td>\n",
       "      <td>Tseng</td>\n",
       "      <td>142</td>\n",
       "    </tr>\n",
       "  </tbody>\n",
       "</table>\n",
       "</div>"
      ],
      "text/plain": [
       "   employeeNumber firstName   lastName  num_sold\n",
       "0            1165    Leslie   Jennings       331\n",
       "1            1166    Leslie   Thompson       114\n",
       "2            1188     Julie   Firrelli       124\n",
       "3            1216     Steve  Patterson       152\n",
       "4            1286  Foon Yue      Tseng       142"
      ]
     },
     "execution_count": 40,
     "metadata": {},
     "output_type": "execute_result"
    }
   ],
   "source": [
    "# Your code here\n",
    "\n",
    "df = pd.DataFrame(cur.execute('''SELECT employeeNumber, firstName, lastName, COUNT(employeeNumber) AS num_sold \n",
    "                        FROM employees E\n",
    "                        JOIN customers C\n",
    "                        ON employeeNumber = salesRepEmployeeNumber\n",
    "                        JOIN orders O\n",
    "                        USING (customerNumber)\n",
    "                        JOIN orderdetails OD\n",
    "                        USING (orderNumber)\n",
    "                        JOIN products P\n",
    "                        USING (productCode)\n",
    "                        GROUP BY E.employeeNumber''').fetchall())\n",
    "df.columns = [x[0] for x in cur.description]\n",
    "print(df.size)\n",
    "df.head()"
   ]
  },
  {
   "cell_type": "markdown",
   "metadata": {},
   "source": [
    "## Summary"
   ]
  },
  {
   "cell_type": "markdown",
   "metadata": {},
   "source": [
    "Congrats! You practiced using join statements and leveraged your foreign keys knowledge!"
   ]
  }
 ],
 "metadata": {
  "kernelspec": {
   "display_name": "Python 3",
   "language": "python",
   "name": "python3"
  },
  "language_info": {
   "codemirror_mode": {
    "name": "ipython",
    "version": 3
   },
   "file_extension": ".py",
   "mimetype": "text/x-python",
   "name": "python",
   "nbconvert_exporter": "python",
   "pygments_lexer": "ipython3",
   "version": "3.6.9"
  },
  "toc": {
   "base_numbering": 1,
   "nav_menu": {},
   "number_sections": true,
   "sideBar": true,
   "skip_h1_title": false,
   "title_cell": "Table of Contents",
   "title_sidebar": "Contents",
   "toc_cell": false,
   "toc_position": {},
   "toc_section_display": true,
   "toc_window_display": false
  },
  "varInspector": {
   "cols": {
    "lenName": 16,
    "lenType": 16,
    "lenVar": 40
   },
   "kernels_config": {
    "python": {
     "delete_cmd_postfix": "",
     "delete_cmd_prefix": "del ",
     "library": "var_list.py",
     "varRefreshCmd": "print(var_dic_list())"
    },
    "r": {
     "delete_cmd_postfix": ") ",
     "delete_cmd_prefix": "rm(",
     "library": "var_list.r",
     "varRefreshCmd": "cat(var_dic_list()) "
    }
   },
   "types_to_exclude": [
    "module",
    "function",
    "builtin_function_or_method",
    "instance",
    "_Feature"
   ],
   "window_display": false
  }
 },
 "nbformat": 4,
 "nbformat_minor": 2
}
